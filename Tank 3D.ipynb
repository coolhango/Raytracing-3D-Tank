{
 "cells": [
  {
   "cell_type": "code",
   "execution_count": null,
   "id": "9aa6860b-15f2-4239-8db2-9901a58ef440",
   "metadata": {},
   "outputs": [],
   "source": [
    "from object_3d import *\n",
    "from camera import *\n",
    "from projection import *\n",
    "import pygame as pg\n",
    "\n",
    "\n",
    "class SoftwareRender:\n",
    "    def __init__(self):\n",
    "        pg.init()\n",
    "        self.RES = self.WIDTH, self.HEIGHT = 1600, 900\n",
    "        self.H_WIDTH, self.H_HEIGHT = self.WIDTH // 2, self.HEIGHT // 2\n",
    "        self.FPS = 60\n",
    "        self.screen = pg.display.set_mode(self.RES)\n",
    "        self.clock = pg.time.Clock()\n",
    "        self.create_objects()\n",
    "\n",
    "    def create_objects(self):\n",
    "        self.camera = Camera(self, [-5, 6, -55])\n",
    "        self.projection = Projection(self)\n",
    "        self.object = self.get_object_from_file('resources/t_34_obj.obj')\n",
    "        self.object.rotate_y(-math.pi / 4)\n",
    "\n",
    "    def get_object_from_file(self, filename):\n",
    "        vertex, faces = [], []\n",
    "        with open(filename) as f:\n",
    "            for line in f:\n",
    "                if line.startswith('v '):\n",
    "                    vertex.append([float(i) for i in line.split()[1:]] + [1])\n",
    "                elif line.startswith('f'):\n",
    "                    faces_ = line.split()[1:]\n",
    "                    faces.append([int(face_.split('/')[0]) - 1 for face_ in faces_])\n",
    "        return Object3D(self, vertex, faces)\n",
    "\n",
    "    def draw(self):\n",
    "        self.screen.fill(pg.Color('darkslategray'))\n",
    "        self.object.draw()\n",
    "\n",
    "    def run(self):\n",
    "        while True:\n",
    "            self.draw()\n",
    "            self.camera.control()\n",
    "            [exit() for i in pg.event.get() if i.type == pg.QUIT]\n",
    "            pg.display.set_caption(str(self.clock.get_fps()))\n",
    "            pg.display.flip()\n",
    "            self.clock.tick(self.FPS)\n",
    "\n",
    "\n",
    "if __name__ == '__main__':\n",
    "    app = SoftwareRender()\n",
    "    app.run()"
   ]
  }
 ],
 "metadata": {
  "kernelspec": {
   "display_name": "Python 3 (ipykernel)",
   "language": "python",
   "name": "python3"
  },
  "language_info": {
   "codemirror_mode": {
    "name": "ipython",
    "version": 3
   },
   "file_extension": ".py",
   "mimetype": "text/x-python",
   "name": "python",
   "nbconvert_exporter": "python",
   "pygments_lexer": "ipython3",
   "version": "3.12.2"
  }
 },
 "nbformat": 4,
 "nbformat_minor": 5
}
